{
  "nbformat": 4,
  "nbformat_minor": 0,
  "metadata": {
    "colab": {
      "provenance": [],
      "include_colab_link": true
    },
    "kernelspec": {
      "name": "python3",
      "display_name": "Python 3"
    },
    "language_info": {
      "name": "python"
    }
  },
  "cells": [
    {
      "cell_type": "markdown",
      "metadata": {
        "id": "view-in-github",
        "colab_type": "text"
      },
      "source": [
        "<a href=\"https://colab.research.google.com/github/navas017/Grupo40-Practica2/blob/main/NotebookP2.ipynb\" target=\"_parent\"><img src=\"https://colab.research.google.com/assets/colab-badge.svg\" alt=\"Open In Colab\"/></a>"
      ]
    },
    {
      "cell_type": "code",
      "source": [
        "from google.colab import drive\n",
        "drive.mount('/content/drive')"
      ],
      "metadata": {
        "colab": {
          "base_uri": "https://localhost:8080/"
        },
        "id": "zfEQab4jZsZw",
        "outputId": "4d20add4-4cc2-4962-f150-f14e7bd4b4aa"
      },
      "execution_count": 191,
      "outputs": [
        {
          "output_type": "stream",
          "name": "stdout",
          "text": [
            "Drive already mounted at /content/drive; to attempt to forcibly remount, call drive.mount(\"/content/drive\", force_remount=True).\n"
          ]
        }
      ]
    },
    {
      "cell_type": "markdown",
      "source": [
        "# **1.INTRODUCCIÓN** "
      ],
      "metadata": {
        "id": "tFYQvXTKdS84"
      }
    },
    {
      "cell_type": "markdown",
      "source": [
        "El objetivo de la práctica consiste en predecir la cantidad de energía que se va a necesitar en Oklahoma con 24 horas de antelación, por medio de un modelo de predicción previamente entrenado y con sus hiper parámetros optimizados.\n",
        "A lo largo del documento se encontrarán los distintos apartados en los que se busca ese modelo de predicción, divididos en procesado: de datos, dónde se toman los datos de archivos externos; el EDA, dónde se comprueban las relaciones entre los distintos datos y se crean hipótesis; modelos básicos, dónde se crean modelos básicos con y sin hiper parámetros optimizados y estos se comparan de manera gráfica; modelos avanzados, en él se llevan a cabo las mismas acciones del apartado anterior pero con modelos avanzados; modelo final, dónde se realiza la predicción utilizando el mejor modelo de entre todos los obtenidos en los apartados anteriores y conclusiones EDA, dónde se presentan los resultados obtenidos tras reducir el dataset con el estudio EDA.  \n"
      ],
      "metadata": {
        "id": "5yAH3A0jiOpq"
      }
    },
    {
      "cell_type": "markdown",
      "source": [
        "### Importación de librerías "
      ],
      "metadata": {
        "id": "FphFyx04hLj3"
      }
    },
    {
      "cell_type": "code",
      "source": [
        "import pandas as pd\n",
        "import numpy as np\n",
        "import urllib.request\n",
        "import pickle\n",
        "from sklearn.linear_model import LogisticRegression\n",
        "from sklearn.ensemble import AdaBoostClassifier\n",
        "from sklearn.tree import DecisionTreeClassifier\n",
        "import xgboost as xgb\n",
        "from sklearn.model_selection import GridSearchCV\n",
        "from sklearn.feature_selection import SelectKBest\n",
        "from sklearn.feature_selection import chi2\n",
        "from sklearn.feature_selection import f_classif\n",
        "from sklearn.metrics import make_scorer, mean_absolute_error, mean_squared_error, r2_score, f1_score\n",
        "from sklearn.metrics import accuracy_score, confusion_matrix, balanced_accuracy_score\n",
        "from sklearn.utils.class_weight import compute_class_weight\n",
        "from sklearn import datasets\n",
        "from sklearn.model_selection import train_test_split\n",
        "from sklearn.metrics import accuracy_score\n",
        "from sklearn.model_selection import PredefinedSplit\n",
        "from sklearn.model_selection import cross_val_score, cross_val_predict\n",
        "from sklearn.model_selection import train_test_split\n",
        "import matplotlib.pyplot as plt\n",
        "import seaborn as sns\n",
        "import networkx as nx\n",
        "import math\n",
        "import time"
      ],
      "metadata": {
        "id": "h51fr2e7dQcT"
      },
      "execution_count": 192,
      "outputs": []
    },
    {
      "cell_type": "markdown",
      "source": [
        "### Importación de datos"
      ],
      "metadata": {
        "id": "WzycICUfqcIa"
      }
    },
    {
      "cell_type": "code",
      "source": [
        "with open('/content/drive/MyDrive/Aprendizaje Automático/Datos2/attrition_available_40.pkl', 'rb') as f:\n",
        "    df = pickle.load(f)"
      ],
      "metadata": {
        "id": "s0q5mPlrqZRf"
      },
      "execution_count": 193,
      "outputs": []
    },
    {
      "cell_type": "markdown",
      "source": [
        "# **2.ANÁLISIS EXPLORATORIO DE DATOS (EDA)**"
      ],
      "metadata": {
        "id": "KcqrVZ40zgrV"
      }
    },
    {
      "cell_type": "markdown",
      "source": [
        "En este apartado se estudia el propio conjunto de datos. En la mayoría de los casos, es conventiente realizar un análisis de este tipo pues existen atributos inútiles para la creación de modelos."
      ],
      "metadata": {
        "id": "U4BbKReYhBks"
      }
    },
    {
      "cell_type": "markdown",
      "source": [
        "### Proporción del tipo de atributos"
      ],
      "metadata": {
        "id": "VIVWSJMhiXQb"
      }
    },
    {
      "cell_type": "markdown",
      "source": [
        "Seguidamente, se va a estudiar la proporción para cada tipo de atributo en el dataset. En este caso, la división se realiza entre atributos numéricos (float), ordinales (int) y categóricos (object)."
      ],
      "metadata": {
        "id": "qyGuvIwxiu-7"
      }
    },
    {
      "cell_type": "markdown",
      "source": [
        "Se dispone de un dataset con 4410 instancias, con 31 atributos cada una, los cuales se dividen en 21 atributos tipo float64, 2 atributos int64 y 8 objetos. En cuanto al tipo de los atributos, el dataset posee 15 atributos numéricos, 8 atributos ordinales y 8 atributos categóricos."
      ],
      "metadata": {
        "id": "YMUZE0qqrUZY"
      }
    },
    {
      "cell_type": "markdown",
      "source": [
        "### Atributos eliminables"
      ],
      "metadata": {
        "id": "qEQwwFdQha00"
      }
    },
    {
      "cell_type": "markdown",
      "source": [
        "En primer lugar, se van a estudiar los atributos eliminables directamente, por su aportación nula al valor de los datos.\n",
        "\n",
        "En primer lugar, el atributo \"EmployeeID\" no ofrece información relevante y es eliminable"
      ],
      "metadata": {
        "id": "en6O8jmhhdzA"
      }
    },
    {
      "cell_type": "code",
      "source": [
        "df.drop('EmployeeID', axis=1, inplace=True)"
      ],
      "metadata": {
        "id": "u3CqLmhAh7-A"
      },
      "execution_count": 194,
      "outputs": []
    },
    {
      "cell_type": "markdown",
      "source": [
        "En segundo lugar, es posible borrar los atributos cuya varianza sea 0, es decir, que se mantengan costantes a lo largo de todo el dataset. Estos datos no ofrecen información extra y solo añaden tiempo de procesamiento a la creación de modelos."
      ],
      "metadata": {
        "id": "Pzqp2HLMh_eO"
      }
    },
    {
      "cell_type": "code",
      "source": [
        "const_cols = []\n",
        "for col in df.columns:\n",
        "    if df[col].nunique() == 1:\n",
        "        const_cols.append(col)\n",
        "print(\"Columnas constantes o innecesarias:\", const_cols)\n",
        "\n",
        "df.drop(const_cols, axis=1, inplace=True)"
      ],
      "metadata": {
        "id": "LW6S5lSiiKQv",
        "colab": {
          "base_uri": "https://localhost:8080/"
        },
        "outputId": "26344c8c-81b1-4032-9318-b5ab0078d22e"
      },
      "execution_count": 195,
      "outputs": [
        {
          "output_type": "stream",
          "name": "stdout",
          "text": [
            "Columnas constantes o innecesarias: ['EmployeeCount', 'Over18', 'StandardHours']\n"
          ]
        }
      ]
    },
    {
      "cell_type": "markdown",
      "source": [
        "### Proporción de NaN en atributos"
      ],
      "metadata": {
        "id": "-99zr_uzimYz"
      }
    },
    {
      "cell_type": "markdown",
      "source": [
        "También se va a estudiar qué proporción de NaN existe en cada columna del dataset."
      ],
      "metadata": {
        "id": "ojpq6M2cj_ju"
      }
    },
    {
      "cell_type": "code",
      "source": [
        "nan_prop = df.isna().mean()\n",
        "print(nan_prop)"
      ],
      "metadata": {
        "id": "MAi5Y5mzbWcd",
        "colab": {
          "base_uri": "https://localhost:8080/"
        },
        "outputId": "7e56aa05-ecb5-44dd-ab08-ee132bb15741"
      },
      "execution_count": 196,
      "outputs": [
        {
          "output_type": "stream",
          "name": "stdout",
          "text": [
            "hrs                        0.169388\n",
            "absences                   0.194331\n",
            "JobInvolvement             0.167574\n",
            "PerformanceRating          0.199093\n",
            "EnvironmentSatisfaction    0.222222\n",
            "JobSatisfaction            0.004535\n",
            "WorkLifeBalance            0.008617\n",
            "Age                        0.000000\n",
            "Attrition                  0.000000\n",
            "BusinessTravel             0.205896\n",
            "Department                 0.179138\n",
            "DistanceFromHome           0.162812\n",
            "Education                  0.216100\n",
            "EducationField             0.204535\n",
            "Gender                     0.206349\n",
            "JobLevel                   0.182086\n",
            "JobRole                    0.174376\n",
            "MaritalStatus              0.212472\n",
            "MonthlyIncome              0.180499\n",
            "NumCompaniesWorked         0.172336\n",
            "PercentSalaryHike          0.195692\n",
            "StockOptionLevel           0.186395\n",
            "TotalWorkingYears          0.175057\n",
            "TrainingTimesLastYear      0.000000\n",
            "YearsAtCompany             0.208844\n",
            "YearsSinceLastPromotion    0.196145\n",
            "YearsWithCurrManager       0.209524\n",
            "dtype: float64\n"
          ]
        }
      ]
    },
    {
      "cell_type": "markdown",
      "source": [
        "Como se puede observar, la proporción de **'missing values'** en la mayoría de atributos se aproxima al **20%**. En el apartado de **Procesamiento de Datos** se dará solución a este problema.\n",
        "\n",
        "También es importante ver que la variable objetivo **'Attrition'** tiene un **0%** de **'missing values'**. Esto es importante pues cualquier fila que tuviese un NaN en esta columna debería ser eliminada."
      ],
      "metadata": {
        "id": "w9BGtPdzkFtZ"
      }
    },
    {
      "cell_type": "markdown",
      "source": [
        "### Tipo de problema"
      ],
      "metadata": {
        "id": "ofl-AJVPlQFm"
      }
    },
    {
      "cell_type": "markdown",
      "source": [
        "Como paso final de este EDA, queda comprobar qué tipo de problema va a tratarse.\n",
        "\n",
        "Está claro debido a la índole de la variable de salida (variable categórica) que el problema es de **clasificación**. La variable **'Attrition'** es una variable **booleana**, es decir, True/False; por esto, el trabajo consiste en predecir en función del resto de atributos si el valor de **Attrition** será **Yes** (True) o **No** (False)."
      ],
      "metadata": {
        "id": "e1PJbEyUlUGY"
      }
    },
    {
      "cell_type": "markdown",
      "source": [
        "Conociendo el tipo de problema, es preciso estudiar si existe **debalanceo** en la variable de salida **Attrition**:"
      ],
      "metadata": {
        "id": "fP0bsxosmD7y"
      }
    },
    {
      "cell_type": "code",
      "source": [
        "prop_Y = df['Attrition'].value_counts(normalize=True)['Yes']\n",
        "prop_N = df['Attrition'].value_counts(normalize=True)['No']\n",
        "\n",
        "print(f\"Proporción de Yes en Attrition: {prop_Y:.2f}\")\n",
        "print(f\"Proporción de No en Attrition: {prop_N:.2f}\")"
      ],
      "metadata": {
        "colab": {
          "base_uri": "https://localhost:8080/"
        },
        "id": "7AmcFmIhmXqx",
        "outputId": "d86b14d1-561d-4d80-fe4c-e2dfe29154df"
      },
      "execution_count": 197,
      "outputs": [
        {
          "output_type": "stream",
          "name": "stdout",
          "text": [
            "Proporción de Yes en Attrition: 0.16\n",
            "Proporción de No en Attrition: 0.84\n"
          ]
        }
      ]
    },
    {
      "cell_type": "markdown",
      "source": [
        "Observando los resultados obtenidos para la proporción de **Yes** y **No** en **Attrition**, está claro que existe **desbalanceo**. Hay muchos más valores de No que de Yes en la columna. Este problema se trata de solucionar en el apartado **Procesamiento de Datos** y a la hora de crear los modelos."
      ],
      "metadata": {
        "id": "hmioGhmJmvwH"
      }
    },
    {
      "cell_type": "markdown",
      "source": [
        "# **3. PROCESAMIENTO DE DATOS**"
      ],
      "metadata": {
        "id": "APY9H7GknGpl"
      }
    },
    {
      "cell_type": "markdown",
      "source": [
        "Tomando el EDA como referencia y habiendo identificado los problemas principales con los datos del enunciado, en el **Procesamiento de datos** se dará solución a la mayoría de estos problemas."
      ],
      "metadata": {
        "id": "Yf6mKdWknNAg"
      }
    },
    {
      "cell_type": "markdown",
      "source": [
        "### Relleno en variables categóricas"
      ],
      "metadata": {
        "id": "9r7bVU_mnhck"
      }
    },
    {
      "cell_type": "markdown",
      "source": [
        "Para rellenar las variables categóricas, tiene sentido utilizar la **moda** de la columna para sustuir los **NaN** presentes en las columnas. Otra opción sería eliminar directamente las filas con valores NaN, pero habiendo visto que supone un **20%** de los datos (aproximadamente) de cada columna, no es una solución viable pues se perdería demasiada información relevante."
      ],
      "metadata": {
        "id": "V8GpqhjfoC7l"
      }
    },
    {
      "cell_type": "code",
      "source": [
        "# Definir diccionario de columnas con valores categóricos\n",
        "mode_col = {\n",
        "    'BusinessTravel': df['BusinessTravel'].mode()[0],\n",
        "    'Department': df['Department'].mode()[0],\n",
        "    'EducationField': df['EducationField'].mode()[0],\n",
        "    'Gender': df['Gender'].mode()[0],\n",
        "    'JobRole': df['JobRole'].mode()[0],\n",
        "    'MaritalStatus': df['MaritalStatus'].mode()[0],\n",
        "    'MaritalStatus': df['MaritalStatus'].mode()[0]    \n",
        "}\n",
        "\n",
        "# Rellenar valores faltantes con las modas por columna\n",
        "df.fillna(value=mode_col, inplace=True)"
      ],
      "metadata": {
        "id": "bZ7uQtMQocHe"
      },
      "execution_count": 198,
      "outputs": []
    },
    {
      "cell_type": "markdown",
      "source": [
        "### Relleno en variables numéricas"
      ],
      "metadata": {
        "id": "pgGSLpyfp_Fr"
      }
    },
    {
      "cell_type": "markdown",
      "source": [
        "Para rellenar las variables **numéricas**, tiene sentido utilizar la **mediana** de la columna para sustituir los **NaN** presentes en la columna."
      ],
      "metadata": {
        "id": "4KnHmaj4q0zY"
      }
    },
    {
      "cell_type": "code",
      "source": [
        "# Obtener lista de columnas numéricas\n",
        "num_cols = list(df.select_dtypes(include=['float64', 'int64']).columns)\n",
        "\n",
        "# Reemplazar los valores faltantes de las columnas numéricas con la mediana\n",
        "df[num_cols] = df[num_cols].fillna(df[num_cols].median())"
      ],
      "metadata": {
        "id": "OpRildZ3qvXM"
      },
      "execution_count": 199,
      "outputs": []
    },
    {
      "cell_type": "markdown",
      "source": [
        "### Comprobación de missing values"
      ],
      "metadata": {
        "id": "rIGRK6Eh0juM"
      }
    },
    {
      "cell_type": "markdown",
      "source": [
        "Para comprobar que todas las columnas han quedado correctamente rellenadas, se vuelve a imprimir la proporción de valores vacíos en cada columna:"
      ],
      "metadata": {
        "id": "sfHr-l6m0mkL"
      }
    },
    {
      "cell_type": "code",
      "source": [
        "nan_prop = df.isna().mean()\n",
        "print(nan_prop)"
      ],
      "metadata": {
        "colab": {
          "base_uri": "https://localhost:8080/"
        },
        "id": "KuDnOHL50u4Y",
        "outputId": "7e766579-ca9d-431f-84a9-315dc52ab25b"
      },
      "execution_count": 200,
      "outputs": [
        {
          "output_type": "stream",
          "name": "stdout",
          "text": [
            "hrs                        0.0\n",
            "absences                   0.0\n",
            "JobInvolvement             0.0\n",
            "PerformanceRating          0.0\n",
            "EnvironmentSatisfaction    0.0\n",
            "JobSatisfaction            0.0\n",
            "WorkLifeBalance            0.0\n",
            "Age                        0.0\n",
            "Attrition                  0.0\n",
            "BusinessTravel             0.0\n",
            "Department                 0.0\n",
            "DistanceFromHome           0.0\n",
            "Education                  0.0\n",
            "EducationField             0.0\n",
            "Gender                     0.0\n",
            "JobLevel                   0.0\n",
            "JobRole                    0.0\n",
            "MaritalStatus              0.0\n",
            "MonthlyIncome              0.0\n",
            "NumCompaniesWorked         0.0\n",
            "PercentSalaryHike          0.0\n",
            "StockOptionLevel           0.0\n",
            "TotalWorkingYears          0.0\n",
            "TrainingTimesLastYear      0.0\n",
            "YearsAtCompany             0.0\n",
            "YearsSinceLastPromotion    0.0\n",
            "YearsWithCurrManager       0.0\n",
            "dtype: float64\n"
          ]
        }
      ]
    },
    {
      "cell_type": "markdown",
      "source": [
        "Efectivamente, todos los **NaN** han sido sustituidos por valores 'coherentes' con el dataset."
      ],
      "metadata": {
        "id": "rOjk5zkJ1HHv"
      }
    },
    {
      "cell_type": "markdown",
      "source": [
        "### Codificación de datos categóricos"
      ],
      "metadata": {
        "id": "6yJzb_hO1S-y"
      }
    },
    {
      "cell_type": "markdown",
      "source": [
        "Para poder utilizar las columnas con datos categóricos es preciso realizar la técnica de **One-Hot encoding** sobre dichas columnas."
      ],
      "metadata": {
        "id": "CfA45iv91YvH"
      }
    },
    {
      "cell_type": "code",
      "source": [
        "# Obtener las columnas categóricas del dataframe\n",
        "cat_cols = ['BusinessTravel', 'Department', 'EducationField', 'Gender', 'JobRole', 'MaritalStatus']\n",
        "\n",
        "# Aplicar One-Hot Encoding\n",
        "df = pd.get_dummies(df, columns=cat_cols)"
      ],
      "metadata": {
        "id": "K0gZv_uO2hHk"
      },
      "execution_count": 201,
      "outputs": []
    },
    {
      "cell_type": "markdown",
      "source": [
        "### Codificación variable objetivo"
      ],
      "metadata": {
        "id": "q_SiELpg6d8K"
      }
    },
    {
      "cell_type": "markdown",
      "source": [
        "La variable objetivo cuenta con valores binarios Yes/No. Para codificar dichos valores, simplemente se tomará No como 0 y Yes como 1."
      ],
      "metadata": {
        "id": "1yiJ5tdP6gXO"
      }
    },
    {
      "cell_type": "code",
      "source": [
        "df[\"Attrition\"] = df[\"Attrition\"].replace({\"No\": 0, \"Yes\": 1})"
      ],
      "metadata": {
        "id": "DooT6l5c6o-G"
      },
      "execution_count": 202,
      "outputs": []
    },
    {
      "cell_type": "markdown",
      "source": [
        "### Conjuntos de datos"
      ],
      "metadata": {
        "id": "Nzp7kU8E30J8"
      }
    },
    {
      "cell_type": "markdown",
      "source": [
        "Con el dataset preparado para introducirlo en modelos, resta randomizar el orden de las filas y partirlo en dos conjuntos: train y test."
      ],
      "metadata": {
        "id": "jSZs3GRs314-"
      }
    },
    {
      "cell_type": "code",
      "source": [
        "# Aleatorizar el orden de las filas\n",
        "df = df.sample(frac=1, random_state=100429142)\n",
        "\n",
        "train, test = train_test_split(df, test_size=0.3)\n",
        "\n",
        "# Conjuntos para entrenar modelos\n",
        "X_train = train.drop('Attrition', axis=1)\n",
        "y_train = train['Attrition']\n",
        "\n",
        "X_test = test.drop('Attrition', axis=1)\n",
        "y_test = test['Attrition']"
      ],
      "metadata": {
        "id": "F9NpBSO-4ODb"
      },
      "execution_count": 203,
      "outputs": []
    },
    {
      "cell_type": "markdown",
      "source": [
        "# **4. CREACIÓN DE MODELOS**"
      ],
      "metadata": {
        "id": "qJJqIw0T5Ib2"
      }
    },
    {
      "cell_type": "markdown",
      "source": [
        "### Preparación balanceo de clases"
      ],
      "metadata": {
        "id": "XUP5QjGE_D6I"
      }
    },
    {
      "cell_type": "markdown",
      "source": [
        "Como se comprobó en el **EDA**, la variable objetivo '**Attrition**' está desbalanceada. Para dar solución a esto es necesario otorgar **pesos** a cada una de las dos clases [0,1] de la variable.\n",
        "\n",
        "Al darle **pesos** en función de su **desbalanceo**, es posible **balancear** las clases y obtener mejores resultados a la hora de entrenar el modelo."
      ],
      "metadata": {
        "id": "UWiz767e_LSi"
      }
    },
    {
      "cell_type": "code",
      "source": [
        "# Preparación del balanceo de clases\n",
        "class_weights = compute_class_weight(class_weight='balanced', classes=[0, 1], y=y_train)\n",
        "class_weights_dict = {0: class_weights[0], 1: class_weights[1]}"
      ],
      "metadata": {
        "id": "lgxBBEKb_G84"
      },
      "execution_count": 204,
      "outputs": []
    },
    {
      "cell_type": "markdown",
      "source": [
        "## **Entrenamiento de Modelos**"
      ],
      "metadata": {
        "id": "KWClsL4_EXER"
      }
    },
    {
      "cell_type": "markdown",
      "source": [
        "### Logistic Regression"
      ],
      "metadata": {
        "id": "akWbcEDK_AkA"
      }
    },
    {
      "cell_type": "code",
      "source": [
        "# Creamos el objeto Logistic Regression\n",
        "logreg = LogisticRegression(class_weight=class_weights_dict)\n",
        "\n",
        "# Iniciar la medición del tiempo\n",
        "start_time = time.time()\n",
        "\n",
        "# Entrenamos el modelo con los datos de entrenamiento\n",
        "logreg.fit(X_train, y_train)\n",
        "\n",
        "# Finalizar la medición del tiempo y calculo del tiempo\n",
        "end_time = time.time()\n",
        "lr_training_time = round((end_time - start_time) * 1000, 6)\n",
        "\n",
        "# Predecir valores de salida con datos de prueba (test)\n",
        "y_pred = logreg.predict(X_test)\n",
        "\n",
        "# Calcular la precisión del modelo\n",
        "lr_accuracy = accuracy_score(y_test, y_pred)\n",
        "lr_balanced_accuracy = balanced_accuracy_score(y_test, y_pred)\n",
        "lr_f1_score = f1_score(y_test, y_pred)\n",
        "\n",
        "# Calcular la matriz de confusión\n",
        "conf_matrix = confusion_matrix(y_test, y_pred)\n",
        "print(\"Confusion Matrix:\\n\", conf_matrix)"
      ],
      "metadata": {
        "colab": {
          "base_uri": "https://localhost:8080/"
        },
        "id": "Opk3cvX_5vjN",
        "outputId": "cb3d357d-c840-4348-ae2f-b98c8f9d1779"
      },
      "execution_count": 205,
      "outputs": [
        {
          "output_type": "stream",
          "name": "stdout",
          "text": [
            "Confusion Matrix:\n",
            " [[699 400]\n",
            " [ 84 140]]\n"
          ]
        },
        {
          "output_type": "stream",
          "name": "stderr",
          "text": [
            "/usr/local/lib/python3.10/dist-packages/sklearn/linear_model/_logistic.py:458: ConvergenceWarning: lbfgs failed to converge (status=1):\n",
            "STOP: TOTAL NO. of ITERATIONS REACHED LIMIT.\n",
            "\n",
            "Increase the number of iterations (max_iter) or scale the data as shown in:\n",
            "    https://scikit-learn.org/stable/modules/preprocessing.html\n",
            "Please also refer to the documentation for alternative solver options:\n",
            "    https://scikit-learn.org/stable/modules/linear_model.html#logistic-regression\n",
            "  n_iter_i = _check_optimize_result(\n"
          ]
        }
      ]
    },
    {
      "cell_type": "markdown",
      "source": [
        "### Boosting"
      ],
      "metadata": {
        "id": "40tBbpK3A_dq"
      }
    },
    {
      "cell_type": "code",
      "source": [
        "# Preparar el clasificador base, en este caso un árbol de decisión\n",
        "base_clf = DecisionTreeClassifier(max_depth=1, class_weight=class_weights_dict)\n",
        "\n",
        "# Definir el clasificador AdaBoost\n",
        "clf = AdaBoostClassifier(estimator=base_clf, n_estimators=200)\n",
        "\n",
        "# Iniciar la medición del tiempo\n",
        "start_time = time.time()\n",
        "\n",
        "# Entrenar el modelo con los datos de entrenamiento\n",
        "clf.fit(X_train, y_train)\n",
        "\n",
        "# Finalizar la medición del tiempo y calculo del tiempo\n",
        "end_time = time.time()\n",
        "clf_training_time = round((end_time - start_time) * 1000, 6)\n",
        "\n",
        "# Predecir valores de salida con datos de prueba (test)\n",
        "y_pred = clf.predict(X_test)\n",
        "\n",
        "# Calcular la precisión del modelo\n",
        "clf_accuracy = accuracy_score(y_test, y_pred)\n",
        "clf_balanced_accuracy = balanced_accuracy_score(y_test, y_pred)\n",
        "clf_f1_score = f1_score(y_test, y_pred)\n",
        "\n",
        "# Calcular la matriz de confusión\n",
        "conf_matrix = confusion_matrix(y_test, y_pred)\n",
        "print(\"Confusion Matrix:\\n\", conf_matrix)"
      ],
      "metadata": {
        "colab": {
          "base_uri": "https://localhost:8080/"
        },
        "id": "rNKf9ehJCK74",
        "outputId": "41533171-1005-4503-d5ea-13f6bdb49af0"
      },
      "execution_count": 206,
      "outputs": [
        {
          "output_type": "stream",
          "name": "stdout",
          "text": [
            "Confusion Matrix:\n",
            " [[891 208]\n",
            " [ 73 151]]\n"
          ]
        }
      ]
    },
    {
      "cell_type": "markdown",
      "source": [
        "### XGBoost"
      ],
      "metadata": {
        "id": "GZoGpOWnEKHF"
      }
    },
    {
      "cell_type": "code",
      "source": [
        "# Definir el clasificador XGBoost\n",
        "clf_xgb = xgb.XGBClassifier(scale_pos_weight=5, random_state=100429142)\n",
        "\n",
        "# Iniciar la medición del tiempo\n",
        "start_time = time.time()\n",
        "\n",
        "# Entrenar el modelo con los datos de entrenamiento\n",
        "xgb_model = clf_xgb.fit(X_train, y_train)\n",
        "\n",
        "# Finalizar la medición del tiempo y calculo del tiempo\n",
        "end_time = time.time()\n",
        "xgb_training_time = round((end_time - start_time) * 1000, 6)\n",
        "\n",
        "# Predecir valores de salida con datos de prueba (test)\n",
        "y_pred_xgb = clf_xgb.predict(X_test)\n",
        "\n",
        "# Calcular la precisión del modelo\n",
        "xgb_accuracy = accuracy_score(y_test, y_pred_xgb)\n",
        "xgb_balanced_accuracy = balanced_accuracy_score(y_test, y_pred_xgb)\n",
        "xgb_f1_score = f1_score(y_test, y_pred_xgb)\n",
        "\n",
        "# Calcular la matriz de confusión\n",
        "conf_matrix_xgb = confusion_matrix(y_test, y_pred_xgb)\n",
        "print(\"Confusion Matrix:\\n\", conf_matrix_xgb)"
      ],
      "metadata": {
        "colab": {
          "base_uri": "https://localhost:8080/"
        },
        "id": "TYgrDlPdEeEa",
        "outputId": "11926def-925b-4f98-dc81-0b3ac40bbe4f"
      },
      "execution_count": 207,
      "outputs": [
        {
          "output_type": "stream",
          "name": "stdout",
          "text": [
            "Confusion Matrix:\n",
            " [[1065   34]\n",
            " [  79  145]]\n"
          ]
        }
      ]
    },
    {
      "cell_type": "markdown",
      "source": [
        "## **Comparativa de Modelos**"
      ],
      "metadata": {
        "id": "3qldCgHrEa3d"
      }
    },
    {
      "cell_type": "markdown",
      "source": [
        "### Tabla de valores"
      ],
      "metadata": {
        "id": "RrLnf8ckHS6A"
      }
    },
    {
      "cell_type": "markdown",
      "source": [
        "En este apartado se presentan los datos obtenidos con los distintos algoritmos dispuestos en forma de tabla para un mejor entendimiento."
      ],
      "metadata": {
        "id": "97XzcM_NRHFe"
      }
    },
    {
      "cell_type": "code",
      "source": [
        "# Crear un diccionario con los valores de MAE, RMSE y tiempo de ejecución de cada modelo\n",
        "data = {'Logistic Regression': [lr_accuracy, lr_balanced_accuracy, lr_f1_score, lr_training_time],\n",
        "        'AdaBoost': [clf_accuracy, clf_balanced_accuracy, clf_f1_score, clf_training_time],\n",
        "        'XGBoost': [xgb_accuracy, xgb_balanced_accuracy, xgb_f1_score, xgb_training_time]}\n",
        "\n",
        "# Crear un DataFrame de pandas con los valores del diccionario y especificar las etiquetas de filas y columnas\n",
        "table = pd.DataFrame(data, index=['Accuracy', 'Balanced Accuracy', 'F1 Score', 'Tiempo de entrenamiento (ms)'])\n",
        "\n",
        "display(table)"
      ],
      "metadata": {
        "colab": {
          "base_uri": "https://localhost:8080/",
          "height": 175
        },
        "id": "--Mav9I0HScp",
        "outputId": "6b690735-6df3-4e3f-b218-93e5f235c3bc"
      },
      "execution_count": 208,
      "outputs": [
        {
          "output_type": "display_data",
          "data": {
            "text/plain": [
              "                              Logistic Regression     AdaBoost      XGBoost\n",
              "Accuracy                                 0.634165     0.787604     0.914588\n",
              "Balanced Accuracy                        0.630516     0.742422     0.808192\n",
              "F1 Score                                 0.366492     0.518010     0.719603\n",
              "Tiempo de entrenamiento (ms)            86.238146  1253.263474  1603.740931"
            ],
            "text/html": [
              "\n",
              "  <div id=\"df-0d9a8204-25f6-4770-81af-aa5e215dafdf\">\n",
              "    <div class=\"colab-df-container\">\n",
              "      <div>\n",
              "<style scoped>\n",
              "    .dataframe tbody tr th:only-of-type {\n",
              "        vertical-align: middle;\n",
              "    }\n",
              "\n",
              "    .dataframe tbody tr th {\n",
              "        vertical-align: top;\n",
              "    }\n",
              "\n",
              "    .dataframe thead th {\n",
              "        text-align: right;\n",
              "    }\n",
              "</style>\n",
              "<table border=\"1\" class=\"dataframe\">\n",
              "  <thead>\n",
              "    <tr style=\"text-align: right;\">\n",
              "      <th></th>\n",
              "      <th>Logistic Regression</th>\n",
              "      <th>AdaBoost</th>\n",
              "      <th>XGBoost</th>\n",
              "    </tr>\n",
              "  </thead>\n",
              "  <tbody>\n",
              "    <tr>\n",
              "      <th>Accuracy</th>\n",
              "      <td>0.634165</td>\n",
              "      <td>0.787604</td>\n",
              "      <td>0.914588</td>\n",
              "    </tr>\n",
              "    <tr>\n",
              "      <th>Balanced Accuracy</th>\n",
              "      <td>0.630516</td>\n",
              "      <td>0.742422</td>\n",
              "      <td>0.808192</td>\n",
              "    </tr>\n",
              "    <tr>\n",
              "      <th>F1 Score</th>\n",
              "      <td>0.366492</td>\n",
              "      <td>0.518010</td>\n",
              "      <td>0.719603</td>\n",
              "    </tr>\n",
              "    <tr>\n",
              "      <th>Tiempo de entrenamiento (ms)</th>\n",
              "      <td>86.238146</td>\n",
              "      <td>1253.263474</td>\n",
              "      <td>1603.740931</td>\n",
              "    </tr>\n",
              "  </tbody>\n",
              "</table>\n",
              "</div>\n",
              "      <button class=\"colab-df-convert\" onclick=\"convertToInteractive('df-0d9a8204-25f6-4770-81af-aa5e215dafdf')\"\n",
              "              title=\"Convert this dataframe to an interactive table.\"\n",
              "              style=\"display:none;\">\n",
              "        \n",
              "  <svg xmlns=\"http://www.w3.org/2000/svg\" height=\"24px\"viewBox=\"0 0 24 24\"\n",
              "       width=\"24px\">\n",
              "    <path d=\"M0 0h24v24H0V0z\" fill=\"none\"/>\n",
              "    <path d=\"M18.56 5.44l.94 2.06.94-2.06 2.06-.94-2.06-.94-.94-2.06-.94 2.06-2.06.94zm-11 1L8.5 8.5l.94-2.06 2.06-.94-2.06-.94L8.5 2.5l-.94 2.06-2.06.94zm10 10l.94 2.06.94-2.06 2.06-.94-2.06-.94-.94-2.06-.94 2.06-2.06.94z\"/><path d=\"M17.41 7.96l-1.37-1.37c-.4-.4-.92-.59-1.43-.59-.52 0-1.04.2-1.43.59L10.3 9.45l-7.72 7.72c-.78.78-.78 2.05 0 2.83L4 21.41c.39.39.9.59 1.41.59.51 0 1.02-.2 1.41-.59l7.78-7.78 2.81-2.81c.8-.78.8-2.07 0-2.86zM5.41 20L4 18.59l7.72-7.72 1.47 1.35L5.41 20z\"/>\n",
              "  </svg>\n",
              "      </button>\n",
              "      \n",
              "  <style>\n",
              "    .colab-df-container {\n",
              "      display:flex;\n",
              "      flex-wrap:wrap;\n",
              "      gap: 12px;\n",
              "    }\n",
              "\n",
              "    .colab-df-convert {\n",
              "      background-color: #E8F0FE;\n",
              "      border: none;\n",
              "      border-radius: 50%;\n",
              "      cursor: pointer;\n",
              "      display: none;\n",
              "      fill: #1967D2;\n",
              "      height: 32px;\n",
              "      padding: 0 0 0 0;\n",
              "      width: 32px;\n",
              "    }\n",
              "\n",
              "    .colab-df-convert:hover {\n",
              "      background-color: #E2EBFA;\n",
              "      box-shadow: 0px 1px 2px rgba(60, 64, 67, 0.3), 0px 1px 3px 1px rgba(60, 64, 67, 0.15);\n",
              "      fill: #174EA6;\n",
              "    }\n",
              "\n",
              "    [theme=dark] .colab-df-convert {\n",
              "      background-color: #3B4455;\n",
              "      fill: #D2E3FC;\n",
              "    }\n",
              "\n",
              "    [theme=dark] .colab-df-convert:hover {\n",
              "      background-color: #434B5C;\n",
              "      box-shadow: 0px 1px 3px 1px rgba(0, 0, 0, 0.15);\n",
              "      filter: drop-shadow(0px 1px 2px rgba(0, 0, 0, 0.3));\n",
              "      fill: #FFFFFF;\n",
              "    }\n",
              "  </style>\n",
              "\n",
              "      <script>\n",
              "        const buttonEl =\n",
              "          document.querySelector('#df-0d9a8204-25f6-4770-81af-aa5e215dafdf button.colab-df-convert');\n",
              "        buttonEl.style.display =\n",
              "          google.colab.kernel.accessAllowed ? 'block' : 'none';\n",
              "\n",
              "        async function convertToInteractive(key) {\n",
              "          const element = document.querySelector('#df-0d9a8204-25f6-4770-81af-aa5e215dafdf');\n",
              "          const dataTable =\n",
              "            await google.colab.kernel.invokeFunction('convertToInteractive',\n",
              "                                                     [key], {});\n",
              "          if (!dataTable) return;\n",
              "\n",
              "          const docLinkHtml = 'Like what you see? Visit the ' +\n",
              "            '<a target=\"_blank\" href=https://colab.research.google.com/notebooks/data_table.ipynb>data table notebook</a>'\n",
              "            + ' to learn more about interactive tables.';\n",
              "          element.innerHTML = '';\n",
              "          dataTable['output_type'] = 'display_data';\n",
              "          await google.colab.output.renderOutput(dataTable, element);\n",
              "          const docLink = document.createElement('div');\n",
              "          docLink.innerHTML = docLinkHtml;\n",
              "          element.appendChild(docLink);\n",
              "        }\n",
              "      </script>\n",
              "    </div>\n",
              "  </div>\n",
              "  "
            ]
          },
          "metadata": {}
        }
      ]
    },
    {
      "cell_type": "markdown",
      "source": [
        "### Comparativa de Accuracy"
      ],
      "metadata": {
        "id": "5UqMoNWjIa4D"
      }
    },
    {
      "cell_type": "code",
      "source": [
        "# Crear una lista con los nombres de los modelos\n",
        "model_names = ['Logistic Regression', 'AdaBoost', 'XGBoost']\n",
        "\n",
        "# Crear una lista con los valores de accuracy de cada modelo\n",
        "accuracy_values = [lr_accuracy, clf_accuracy, xgb_accuracy]\n",
        "\n",
        "# Crear la figura y los ejes del gráfico\n",
        "fig, ax = plt.subplots()\n",
        "\n",
        "# Crear el gráfico de barras\n",
        "ax.bar(model_names, accuracy_values)\n",
        "\n",
        "# Agregar los valores encima de cada barra\n",
        "for i, v in enumerate(accuracy_values):\n",
        "    ax.text(i - 0.1, v + 0.01, str(round(v, 4)), fontsize=10)\n",
        "\n",
        "# Agregar etiquetas y título\n",
        "ax.set_xlabel('Modelos')\n",
        "ax.set_ylabel('Accuracy')\n",
        "ax.set_title('Comparación de modelos')\n",
        "\n",
        "# Mostrar el gráfico\n",
        "plt.show()"
      ],
      "metadata": {
        "colab": {
          "base_uri": "https://localhost:8080/",
          "height": 472
        },
        "id": "zeIMozKuI7La",
        "outputId": "b24508d4-b8e9-4bf0-826a-22bf3a62e4db"
      },
      "execution_count": 209,
      "outputs": [
        {
          "output_type": "display_data",
          "data": {
            "text/plain": [
              "<Figure size 640x480 with 1 Axes>"
            ],
            "image/png": "[encoded data removed]"
          },
          "metadata": {}
        }
      ]
    },
    {
      "cell_type": "markdown",
      "source": [
        "Se aprecia una gran diferencia entre las precisiones de los modelos entrenados. El mejor resulta ser XGBoost con una precisión ligeramente superior al 94%, puesto que su optimización de parámetros es más avanzada que el resto.\n",
        "\n",
        "El peor modelo es Logistic Regression, con una precisión aproximada del 66%. Con precisiones tan bajas no puede considerarse como un modelo apto para la clasificación. "
      ],
      "metadata": {
        "id": "gH_jbjnl0rt3"
      }
    },
    {
      "cell_type": "markdown",
      "source": [
        "### Comparativa de Balanced Accuracy"
      ],
      "metadata": {
        "id": "TtBF9I2hIiFW"
      }
    },
    {
      "cell_type": "code",
      "source": [
        "# Crear una lista con los nombres de los modelos\n",
        "model_names = ['Logistic Regression', 'AdaBoost', 'XGBoost']\n",
        "\n",
        "# Crear una lista con los valores de accuracy de cada modelo\n",
        "accuracy_values = [lr_balanced_accuracy, clf_balanced_accuracy, xgb_balanced_accuracy]\n",
        "\n",
        "# Crear la figura y los ejes del gráfico\n",
        "fig, ax = plt.subplots()\n",
        "\n",
        "# Crear el gráfico de barras\n",
        "ax.bar(model_names, accuracy_values)\n",
        "\n",
        "# Agregar los valores encima de cada barra\n",
        "for i, v in enumerate(accuracy_values):\n",
        "    ax.text(i - 0.1, v + 0.01, str(round(v, 4)), fontsize=10)\n",
        "\n",
        "# Agregar etiquetas y título\n",
        "ax.set_xlabel('Modelos')\n",
        "ax.set_ylabel('Balanced Accuracy')\n",
        "ax.set_title('Comparación de modelos')\n",
        "\n",
        "# Mostrar el gráfico\n",
        "plt.show()"
      ],
      "metadata": {
        "colab": {
          "base_uri": "https://localhost:8080/",
          "height": 472
        },
        "id": "TPa2CCgoJKwB",
        "outputId": "2539a958-1b83-41d9-d5f1-3da2c2e0e5cf"
      },
      "execution_count": 210,
      "outputs": [
        {
          "output_type": "display_data",
          "data": {
            "text/plain": [
              "<Figure size 640x480 with 1 Axes>"
            ],
            "image/png": "[encoded data removed]"
          },
          "metadata": {}
        }
      ]
    },
    {
      "cell_type": "markdown",
      "source": [
        "### Comparativa F1 Score"
      ],
      "metadata": {
        "id": "-CN9NfbphKQl"
      }
    },
    {
      "cell_type": "code",
      "source": [
        "# Crear una lista con los nombres de los modelos\n",
        "model_names = ['Logistic Regression', 'AdaBoost', 'XGBoost']\n",
        "\n",
        "# Crear una lista con los valores de accuracy de cada modelo\n",
        "accuracy_values = [lr_f1_score, clf_f1_score, xgb_f1_score]\n",
        "\n",
        "# Crear la figura y los ejes del gráfico\n",
        "fig, ax = plt.subplots()\n",
        "\n",
        "# Crear el gráfico de barras\n",
        "ax.bar(model_names, accuracy_values)\n",
        "\n",
        "# Agregar los valores encima de cada barra\n",
        "for i, v in enumerate(accuracy_values):\n",
        "    ax.text(i - 0.1, v + 0.01, str(round(v, 4)), fontsize=10)\n",
        "\n",
        "# Agregar etiquetas y título\n",
        "ax.set_xlabel('Modelos')\n",
        "ax.set_ylabel('F1 Score')\n",
        "ax.set_title('Comparación de modelos')\n",
        "\n",
        "# Mostrar el gráfico\n",
        "plt.show()"
      ],
      "metadata": {
        "colab": {
          "base_uri": "https://localhost:8080/",
          "height": 472
        },
        "id": "YaXn_TwKhQMS",
        "outputId": "9d3d3dbd-f8af-4813-d52a-297e99d7ec0f"
      },
      "execution_count": 211,
      "outputs": [
        {
          "output_type": "display_data",
          "data": {
            "text/plain": [
              "<Figure size 640x480 with 1 Axes>"
            ],
            "image/png": "[encoded data removed]"
          },
          "metadata": {}
        }
      ]
    },
    {
      "cell_type": "markdown",
      "source": [
        "### Comparativa Tiempo de Entrenamiento"
      ],
      "metadata": {
        "id": "s9tsztYpJdqG"
      }
    },
    {
      "cell_type": "code",
      "source": [
        "# Crear una lista con los nombres de los modelos\n",
        "model_names = ['Logistic Regression', 'AdaBoost', 'XGBoost']\n",
        "\n",
        "# Crear una lista con los valores de accuracy de cada modelo\n",
        "accuracy_values = [lr_training_time, clf_training_time, xgb_training_time]\n",
        "\n",
        "# Crear la figura y los ejes del gráfico\n",
        "fig, ax = plt.subplots()\n",
        "\n",
        "# Crear el gráfico de barras\n",
        "ax.bar(model_names, accuracy_values)\n",
        "\n",
        "# Agregar los valores encima de cada barra\n",
        "for i, v in enumerate(accuracy_values):\n",
        "    ax.text(i - 0.1, v + 0.01, str(round(v, 4)), fontsize=10)\n",
        "\n",
        "# Agregar etiquetas y título\n",
        "ax.set_xlabel('Modelos')\n",
        "ax.set_ylabel('Tiempo de entrenamiento (ms)')\n",
        "ax.set_title('Comparación de modelos')\n",
        "\n",
        "# Mostrar el gráfico\n",
        "plt.show()"
      ],
      "metadata": {
        "colab": {
          "base_uri": "https://localhost:8080/",
          "height": 472
        },
        "id": "MwxEuZi7JZxy",
        "outputId": "401f2be4-dd0b-439e-c7ef-df581d6d0531"
      },
      "execution_count": 212,
      "outputs": [
        {
          "output_type": "display_data",
          "data": {
            "text/plain": [
              "<Figure size 640x480 with 1 Axes>"
            ],
            "image/png": "[encoded data removed]"
          },
          "metadata": {}
        }
      ]
    },
    {
      "cell_type": "markdown",
      "source": [
        "# **5. SELECCIÓN DE ATRIBUTOS**"
      ],
      "metadata": {
        "id": "siRgWPgPJ0Mi"
      }
    },
    {
      "cell_type": "markdown",
      "source": [
        "Es posible utilizar métodos para limpiar aún más el dataset. Entre estos métodos se encuentra **SelectKBest**, que aplicando técnicas de **filtrado** y estudiando la **correlación** entre atributos, es capaz de determinar qué variables no aportan a la información del dataset."
      ],
      "metadata": {
        "id": "Q1BzW79vL77N"
      }
    },
    {
      "cell_type": "code",
      "source": [
        "# Seleccionar las 10 mejores características usando la prueba chi-cuadrado\n",
        "selector = SelectKBest(chi2, k=10)\n",
        "new_X_train = selector.fit_transform(X_train, y_train)\n",
        "new_X_test = selector.transform(X_test)"
      ],
      "metadata": {
        "id": "EkkDG_kEMNq8"
      },
      "execution_count": 213,
      "outputs": []
    },
    {
      "cell_type": "code",
      "source": [
        "# Seleccionar las 10 mejores características usando la prueba ANOVA F\n",
        "selector = SelectKBest(f_classif, k=10)\n",
        "X_train_new = selector.fit_transform(X_train, y_train)\n",
        "X_test_new = selector.transform(X_test)"
      ],
      "metadata": {
        "id": "G2AiVtmiQHW0"
      },
      "execution_count": 214,
      "outputs": []
    },
    {
      "cell_type": "markdown",
      "source": [
        "## **Entrenamiento de Modelos**"
      ],
      "metadata": {
        "id": "XaqKHCuoMbbV"
      }
    },
    {
      "cell_type": "markdown",
      "source": [
        "### Logistic Regression"
      ],
      "metadata": {
        "id": "hLdNlsiXMkUJ"
      }
    },
    {
      "cell_type": "code",
      "source": [
        "# Creamos el objeto Logistic Regression\n",
        "logreg = LogisticRegression(class_weight=class_weights_dict)\n",
        "\n",
        "# Iniciar la medición del tiempo\n",
        "start_time = time.time()\n",
        "\n",
        "# Entrenamos el modelo con los datos de entrenamiento\n",
        "logreg.fit(new_X_train, y_train)\n",
        "\n",
        "# Finalizar la medición del tiempo y calculo del tiempo\n",
        "end_time = time.time()\n",
        "new_lr_training_time = round((end_time - start_time) * 1000, 6)\n",
        "\n",
        "# Predecir valores de salida con datos de prueba (test)\n",
        "y_pred = logreg.predict(new_X_test)\n",
        "\n",
        "# Calcular la precisión del modelo\n",
        "new_lr_accuracy = accuracy_score(y_test, y_pred)\n",
        "new_lr_balanced_accuracy = balanced_accuracy_score(y_test, y_pred)\n",
        "new_lr_f1_score = f1_score(y_test, y_pred)\n",
        "\n",
        "# Calcular la matriz de confusión\n",
        "new_lr_conf_matrix = confusion_matrix(y_test, y_pred)\n",
        "print(\"Confusion Matrix:\\n\", conf_matrix)"
      ],
      "metadata": {
        "colab": {
          "base_uri": "https://localhost:8080/"
        },
        "outputId": "beaa8961-cdb8-4ed2-c022-821ebbd6c8bc",
        "id": "9f7r-mdSMkUJ"
      },
      "execution_count": 215,
      "outputs": [
        {
          "output_type": "stream",
          "name": "stdout",
          "text": [
            "Confusion Matrix:\n",
            " [[891 208]\n",
            " [ 73 151]]\n"
          ]
        }
      ]
    },
    {
      "cell_type": "markdown",
      "source": [
        "### Boosting"
      ],
      "metadata": {
        "id": "YWpt2r7gMkUJ"
      }
    },
    {
      "cell_type": "code",
      "source": [
        "# Preparar el clasificador base, en este caso un árbol de decisión\n",
        "base_clf = DecisionTreeClassifier(max_depth=1, class_weight=class_weights_dict)\n",
        "\n",
        "# Definir el clasificador AdaBoost\n",
        "clf = AdaBoostClassifier(estimator=base_clf, n_estimators=200)\n",
        "\n",
        "# Iniciar la medición del tiempo\n",
        "start_time = time.time()\n",
        "\n",
        "# Entrenar el modelo con los datos de entrenamiento\n",
        "clf.fit(new_X_train, y_train)\n",
        "\n",
        "# Finalizar la medición del tiempo y calculo del tiempo\n",
        "end_time = time.time()\n",
        "new_clf_training_time = round((end_time - start_time) * 1000, 6)\n",
        "\n",
        "# Predecir valores de salida con datos de prueba (test)\n",
        "y_pred = clf.predict(new_X_test)\n",
        "\n",
        "# Calcular la precisión del modelo\n",
        "new_clf_accuracy = accuracy_score(y_test, y_pred)\n",
        "new_clf_balanced_accuracy = balanced_accuracy_score(y_test, y_pred)\n",
        "new_clf_f1_score = f1_score(y_test, y_pred)\n",
        "\n",
        "# Calcular la matriz de confusión\n",
        "new__clfconf_matrix = confusion_matrix(y_test, y_pred)\n",
        "print(\"Confusion Matrix:\\n\", conf_matrix)"
      ],
      "metadata": {
        "colab": {
          "base_uri": "https://localhost:8080/"
        },
        "outputId": "21c8aba3-6d9c-4466-8898-3e5df91d6cbc",
        "id": "FXVbHpptMkUK"
      },
      "execution_count": 216,
      "outputs": [
        {
          "output_type": "stream",
          "name": "stdout",
          "text": [
            "Confusion Matrix:\n",
            " [[891 208]\n",
            " [ 73 151]]\n"
          ]
        }
      ]
    },
    {
      "cell_type": "markdown",
      "source": [
        "### XGBoost"
      ],
      "metadata": {
        "id": "nHdSZ9oVMkUK"
      }
    },
    {
      "cell_type": "code",
      "source": [
        "# Definir el clasificador XGBoost\n",
        "clf_xgb = xgb.XGBClassifier(scale_pos_weight=5, random_state=100429142)\n",
        "\n",
        "# Iniciar la medición del tiempo\n",
        "start_time = time.time()\n",
        "\n",
        "# Entrenar el modelo con los datos de entrenamiento\n",
        "clf_xgb.fit(new_X_train, y_train)\n",
        "\n",
        "# Finalizar la medición del tiempo y calculo del tiempo\n",
        "end_time = time.time()\n",
        "new_xgb_training_time = round((end_time - start_time) * 1000, 6)\n",
        "\n",
        "# Predecir valores de salida con datos de prueba (test)\n",
        "y_pred_xgb = clf_xgb.predict(new_X_test)\n",
        "\n",
        "# Calcular la precisión del modelo\n",
        "new_xgb_accuracy = accuracy_score(y_test, y_pred_xgb)\n",
        "new_xgb_balanced_accuracy = balanced_accuracy_score(y_test, y_pred_xgb)\n",
        "new_xgb_f1_score = f1_score(y_test, y_pred_xgb)\n",
        "\n",
        "# Calcular la matriz de confusión\n",
        "new_xgb_conf_matrix_xgb = confusion_matrix(y_test, y_pred_xgb)\n",
        "print(\"Confusion Matrix:\\n\", conf_matrix_xgb)"
      ],
      "metadata": {
        "colab": {
          "base_uri": "https://localhost:8080/"
        },
        "outputId": "309e76d4-173e-41df-f098-c3ab6e79dc91",
        "id": "PoxT9qoGMkUK"
      },
      "execution_count": 217,
      "outputs": [
        {
          "output_type": "stream",
          "name": "stdout",
          "text": [
            "Confusion Matrix:\n",
            " [[1065   34]\n",
            " [  79  145]]\n"
          ]
        }
      ]
    },
    {
      "cell_type": "markdown",
      "source": [
        "## **Comparativa de Modelos**"
      ],
      "metadata": {
        "id": "-XO-NdApM3SP"
      }
    },
    {
      "cell_type": "markdown",
      "source": [
        "### Tabla de datos"
      ],
      "metadata": {
        "id": "DvtInOARM-eU"
      }
    },
    {
      "cell_type": "code",
      "source": [
        "# ***************** ATRIBUTOS SIN FILTRAR\n",
        "# Crear un diccionario con los valores de MAE, RMSE y tiempo de ejecución de cada modelo\n",
        "data = {'Logistic Regression': [lr_accuracy, lr_balanced_accuracy, lr_f1_score, lr_training_time],\n",
        "        'AdaBoost': [clf_accuracy, clf_balanced_accuracy, clf_f1_score, clf_training_time],\n",
        "        'XGBoost': [xgb_accuracy, xgb_balanced_accuracy, xgb_f1_score, xgb_training_time]}\n",
        "\n",
        "# Crear un DataFrame de pandas con los valores del diccionario y especificar las etiquetas de filas y columnas\n",
        "table = pd.DataFrame(data, index=['Accuracy', 'Balanced Accuracy', 'F1 Score','Tiempo de entrenamiento (ms)'])\n",
        "\n",
        "\n",
        "# ***************** ATRIBUTOS FILTRADOS\n",
        "# Crear un diccionario con los valores de MAE, RMSE y tiempo de ejecución de cada modelo\n",
        "data = {'Logistic Regression': [new_lr_accuracy, new_lr_balanced_accuracy, new_lr_f1_score, new_lr_training_time],\n",
        "        'AdaBoost': [new_clf_accuracy, new_clf_balanced_accuracy, new_clf_f1_score, new_clf_training_time],\n",
        "        'XGBoost': [new_xgb_accuracy, new_xgb_balanced_accuracy, new_xgb_f1_score, new_xgb_training_time]}\n",
        "\n",
        "# Crear un DataFrame de pandas con los valores del diccionario y especificar las etiquetas de filas y columnas\n",
        "new_table = pd.DataFrame(data, index=['Accuracy', 'Balanced Accuracy', 'F1 Score','Tiempo de entrenamiento (ms)'])\n",
        "\n",
        "print(\"Tabla sin filtrado\")\n",
        "display(table)\n",
        "\n",
        "print(\"\\n\")\n",
        "print(\"Tabla con filtrado\")\n",
        "display(new_table)"
      ],
      "metadata": {
        "colab": {
          "base_uri": "https://localhost:8080/",
          "height": 405
        },
        "id": "Ff4fYqszM9dX",
        "outputId": "acbf6217-a5f8-45be-8c91-6213a4f30814"
      },
      "execution_count": 218,
      "outputs": [
        {
          "output_type": "stream",
          "name": "stdout",
          "text": [
            "Tabla sin filtrado\n"
          ]
        },
        {
          "output_type": "display_data",
          "data": {
            "text/plain": [
              "                              Logistic Regression     AdaBoost      XGBoost\n",
              "Accuracy                                 0.634165     0.787604     0.914588\n",
              "Balanced Accuracy                        0.630516     0.742422     0.808192\n",
              "F1 Score                                 0.366492     0.518010     0.719603\n",
              "Tiempo de entrenamiento (ms)            86.238146  1253.263474  1603.740931"
            ],
            "text/html": [
              "\n",
              "  <div id=\"df-01d747dd-28bb-4068-872f-dbc58ea54b32\">\n",
              "    <div class=\"colab-df-container\">\n",
              "      <div>\n",
              "<style scoped>\n",
              "    .dataframe tbody tr th:only-of-type {\n",
              "        vertical-align: middle;\n",
              "    }\n",
              "\n",
              "    .dataframe tbody tr th {\n",
              "        vertical-align: top;\n",
              "    }\n",
              "\n",
              "    .dataframe thead th {\n",
              "        text-align: right;\n",
              "    }\n",
              "</style>\n",
              "<table border=\"1\" class=\"dataframe\">\n",
              "  <thead>\n",
              "    <tr style=\"text-align: right;\">\n",
              "      <th></th>\n",
              "      <th>Logistic Regression</th>\n",
              "      <th>AdaBoost</th>\n",
              "      <th>XGBoost</th>\n",
              "    </tr>\n",
              "  </thead>\n",
              "  <tbody>\n",
              "    <tr>\n",
              "      <th>Accuracy</th>\n",
              "      <td>0.634165</td>\n",
              "      <td>0.787604</td>\n",
              "      <td>0.914588</td>\n",
              "    </tr>\n",
              "    <tr>\n",
              "      <th>Balanced Accuracy</th>\n",
              "      <td>0.630516</td>\n",
              "      <td>0.742422</td>\n",
              "      <td>0.808192</td>\n",
              "    </tr>\n",
              "    <tr>\n",
              "      <th>F1 Score</th>\n",
              "      <td>0.366492</td>\n",
              "      <td>0.518010</td>\n",
              "      <td>0.719603</td>\n",
              "    </tr>\n",
              "    <tr>\n",
              "      <th>Tiempo de entrenamiento (ms)</th>\n",
              "      <td>86.238146</td>\n",
              "      <td>1253.263474</td>\n",
              "      <td>1603.740931</td>\n",
              "    </tr>\n",
              "  </tbody>\n",
              "</table>\n",
              "</div>\n",
              "      <button class=\"colab-df-convert\" onclick=\"convertToInteractive('df-01d747dd-28bb-4068-872f-dbc58ea54b32')\"\n",
              "              title=\"Convert this dataframe to an interactive table.\"\n",
              "              style=\"display:none;\">\n",
              "        \n",
              "  <svg xmlns=\"http://www.w3.org/2000/svg\" height=\"24px\"viewBox=\"0 0 24 24\"\n",
              "       width=\"24px\">\n",
              "    <path d=\"M0 0h24v24H0V0z\" fill=\"none\"/>\n",
              "    <path d=\"M18.56 5.44l.94 2.06.94-2.06 2.06-.94-2.06-.94-.94-2.06-.94 2.06-2.06.94zm-11 1L8.5 8.5l.94-2.06 2.06-.94-2.06-.94L8.5 2.5l-.94 2.06-2.06.94zm10 10l.94 2.06.94-2.06 2.06-.94-2.06-.94-.94-2.06-.94 2.06-2.06.94z\"/><path d=\"M17.41 7.96l-1.37-1.37c-.4-.4-.92-.59-1.43-.59-.52 0-1.04.2-1.43.59L10.3 9.45l-7.72 7.72c-.78.78-.78 2.05 0 2.83L4 21.41c.39.39.9.59 1.41.59.51 0 1.02-.2 1.41-.59l7.78-7.78 2.81-2.81c.8-.78.8-2.07 0-2.86zM5.41 20L4 18.59l7.72-7.72 1.47 1.35L5.41 20z\"/>\n",
              "  </svg>\n",
              "      </button>\n",
              "      \n",
              "  <style>\n",
              "    .colab-df-container {\n",
              "      display:flex;\n",
              "      flex-wrap:wrap;\n",
              "      gap: 12px;\n",
              "    }\n",
              "\n",
              "    .colab-df-convert {\n",
              "      background-color: #E8F0FE;\n",
              "      border: none;\n",
              "      border-radius: 50%;\n",
              "      cursor: pointer;\n",
              "      display: none;\n",
              "      fill: #1967D2;\n",
              "      height: 32px;\n",
              "      padding: 0 0 0 0;\n",
              "      width: 32px;\n",
              "    }\n",
              "\n",
              "    .colab-df-convert:hover {\n",
              "      background-color: #E2EBFA;\n",
              "      box-shadow: 0px 1px 2px rgba(60, 64, 67, 0.3), 0px 1px 3px 1px rgba(60, 64, 67, 0.15);\n",
              "      fill: #174EA6;\n",
              "    }\n",
              "\n",
              "    [theme=dark] .colab-df-convert {\n",
              "      background-color: #3B4455;\n",
              "      fill: #D2E3FC;\n",
              "    }\n",
              "\n",
              "    [theme=dark] .colab-df-convert:hover {\n",
              "      background-color: #434B5C;\n",
              "      box-shadow: 0px 1px 3px 1px rgba(0, 0, 0, 0.15);\n",
              "      filter: drop-shadow(0px 1px 2px rgba(0, 0, 0, 0.3));\n",
              "      fill: #FFFFFF;\n",
              "    }\n",
              "  </style>\n",
              "\n",
              "      <script>\n",
              "        const buttonEl =\n",
              "          document.querySelector('#df-01d747dd-28bb-4068-872f-dbc58ea54b32 button.colab-df-convert');\n",
              "        buttonEl.style.display =\n",
              "          google.colab.kernel.accessAllowed ? 'block' : 'none';\n",
              "\n",
              "        async function convertToInteractive(key) {\n",
              "          const element = document.querySelector('#df-01d747dd-28bb-4068-872f-dbc58ea54b32');\n",
              "          const dataTable =\n",
              "            await google.colab.kernel.invokeFunction('convertToInteractive',\n",
              "                                                     [key], {});\n",
              "          if (!dataTable) return;\n",
              "\n",
              "          const docLinkHtml = 'Like what you see? Visit the ' +\n",
              "            '<a target=\"_blank\" href=https://colab.research.google.com/notebooks/data_table.ipynb>data table notebook</a>'\n",
              "            + ' to learn more about interactive tables.';\n",
              "          element.innerHTML = '';\n",
              "          dataTable['output_type'] = 'display_data';\n",
              "          await google.colab.output.renderOutput(dataTable, element);\n",
              "          const docLink = document.createElement('div');\n",
              "          docLink.innerHTML = docLinkHtml;\n",
              "          element.appendChild(docLink);\n",
              "        }\n",
              "      </script>\n",
              "    </div>\n",
              "  </div>\n",
              "  "
            ]
          },
          "metadata": {}
        },
        {
          "output_type": "stream",
          "name": "stdout",
          "text": [
            "\n",
            "\n",
            "Tabla con filtrado\n"
          ]
        },
        {
          "output_type": "display_data",
          "data": {
            "text/plain": [
              "                              Logistic Regression    AdaBoost     XGBoost\n",
              "Accuracy                                 0.615268    0.753590    0.886621\n",
              "Balanced Accuracy                        0.619142    0.711286    0.754038\n",
              "F1 Score                                 0.354880    0.470779    0.623116\n",
              "Tiempo de entrenamiento (ms)            26.320219  698.194265  201.666594"
            ],
            "text/html": [
              "\n",
              "  <div id=\"df-e15e6cca-97fb-4418-924c-aeaecacfb70a\">\n",
              "    <div class=\"colab-df-container\">\n",
              "      <div>\n",
              "<style scoped>\n",
              "    .dataframe tbody tr th:only-of-type {\n",
              "        vertical-align: middle;\n",
              "    }\n",
              "\n",
              "    .dataframe tbody tr th {\n",
              "        vertical-align: top;\n",
              "    }\n",
              "\n",
              "    .dataframe thead th {\n",
              "        text-align: right;\n",
              "    }\n",
              "</style>\n",
              "<table border=\"1\" class=\"dataframe\">\n",
              "  <thead>\n",
              "    <tr style=\"text-align: right;\">\n",
              "      <th></th>\n",
              "      <th>Logistic Regression</th>\n",
              "      <th>AdaBoost</th>\n",
              "      <th>XGBoost</th>\n",
              "    </tr>\n",
              "  </thead>\n",
              "  <tbody>\n",
              "    <tr>\n",
              "      <th>Accuracy</th>\n",
              "      <td>0.615268</td>\n",
              "      <td>0.753590</td>\n",
              "      <td>0.886621</td>\n",
              "    </tr>\n",
              "    <tr>\n",
              "      <th>Balanced Accuracy</th>\n",
              "      <td>0.619142</td>\n",
              "      <td>0.711286</td>\n",
              "      <td>0.754038</td>\n",
              "    </tr>\n",
              "    <tr>\n",
              "      <th>F1 Score</th>\n",
              "      <td>0.354880</td>\n",
              "      <td>0.470779</td>\n",
              "      <td>0.623116</td>\n",
              "    </tr>\n",
              "    <tr>\n",
              "      <th>Tiempo de entrenamiento (ms)</th>\n",
              "      <td>26.320219</td>\n",
              "      <td>698.194265</td>\n",
              "      <td>201.666594</td>\n",
              "    </tr>\n",
              "  </tbody>\n",
              "</table>\n",
              "</div>\n",
              "      <button class=\"colab-df-convert\" onclick=\"convertToInteractive('df-e15e6cca-97fb-4418-924c-aeaecacfb70a')\"\n",
              "              title=\"Convert this dataframe to an interactive table.\"\n",
              "              style=\"display:none;\">\n",
              "        \n",
              "  <svg xmlns=\"http://www.w3.org/2000/svg\" height=\"24px\"viewBox=\"0 0 24 24\"\n",
              "       width=\"24px\">\n",
              "    <path d=\"M0 0h24v24H0V0z\" fill=\"none\"/>\n",
              "    <path d=\"M18.56 5.44l.94 2.06.94-2.06 2.06-.94-2.06-.94-.94-2.06-.94 2.06-2.06.94zm-11 1L8.5 8.5l.94-2.06 2.06-.94-2.06-.94L8.5 2.5l-.94 2.06-2.06.94zm10 10l.94 2.06.94-2.06 2.06-.94-2.06-.94-.94-2.06-.94 2.06-2.06.94z\"/><path d=\"M17.41 7.96l-1.37-1.37c-.4-.4-.92-.59-1.43-.59-.52 0-1.04.2-1.43.59L10.3 9.45l-7.72 7.72c-.78.78-.78 2.05 0 2.83L4 21.41c.39.39.9.59 1.41.59.51 0 1.02-.2 1.41-.59l7.78-7.78 2.81-2.81c.8-.78.8-2.07 0-2.86zM5.41 20L4 18.59l7.72-7.72 1.47 1.35L5.41 20z\"/>\n",
              "  </svg>\n",
              "      </button>\n",
              "      \n",
              "  <style>\n",
              "    .colab-df-container {\n",
              "      display:flex;\n",
              "      flex-wrap:wrap;\n",
              "      gap: 12px;\n",
              "    }\n",
              "\n",
              "    .colab-df-convert {\n",
              "      background-color: #E8F0FE;\n",
              "      border: none;\n",
              "      border-radius: 50%;\n",
              "      cursor: pointer;\n",
              "      display: none;\n",
              "      fill: #1967D2;\n",
              "      height: 32px;\n",
              "      padding: 0 0 0 0;\n",
              "      width: 32px;\n",
              "    }\n",
              "\n",
              "    .colab-df-convert:hover {\n",
              "      background-color: #E2EBFA;\n",
              "      box-shadow: 0px 1px 2px rgba(60, 64, 67, 0.3), 0px 1px 3px 1px rgba(60, 64, 67, 0.15);\n",
              "      fill: #174EA6;\n",
              "    }\n",
              "\n",
              "    [theme=dark] .colab-df-convert {\n",
              "      background-color: #3B4455;\n",
              "      fill: #D2E3FC;\n",
              "    }\n",
              "\n",
              "    [theme=dark] .colab-df-convert:hover {\n",
              "      background-color: #434B5C;\n",
              "      box-shadow: 0px 1px 3px 1px rgba(0, 0, 0, 0.15);\n",
              "      filter: drop-shadow(0px 1px 2px rgba(0, 0, 0, 0.3));\n",
              "      fill: #FFFFFF;\n",
              "    }\n",
              "  </style>\n",
              "\n",
              "      <script>\n",
              "        const buttonEl =\n",
              "          document.querySelector('#df-e15e6cca-97fb-4418-924c-aeaecacfb70a button.colab-df-convert');\n",
              "        buttonEl.style.display =\n",
              "          google.colab.kernel.accessAllowed ? 'block' : 'none';\n",
              "\n",
              "        async function convertToInteractive(key) {\n",
              "          const element = document.querySelector('#df-e15e6cca-97fb-4418-924c-aeaecacfb70a');\n",
              "          const dataTable =\n",
              "            await google.colab.kernel.invokeFunction('convertToInteractive',\n",
              "                                                     [key], {});\n",
              "          if (!dataTable) return;\n",
              "\n",
              "          const docLinkHtml = 'Like what you see? Visit the ' +\n",
              "            '<a target=\"_blank\" href=https://colab.research.google.com/notebooks/data_table.ipynb>data table notebook</a>'\n",
              "            + ' to learn more about interactive tables.';\n",
              "          element.innerHTML = '';\n",
              "          dataTable['output_type'] = 'display_data';\n",
              "          await google.colab.output.renderOutput(dataTable, element);\n",
              "          const docLink = document.createElement('div');\n",
              "          docLink.innerHTML = docLinkHtml;\n",
              "          element.appendChild(docLink);\n",
              "        }\n",
              "      </script>\n",
              "    </div>\n",
              "  </div>\n",
              "  "
            ]
          },
          "metadata": {}
        }
      ]
    },
    {
      "cell_type": "markdown",
      "source": [
        "### Comparativa del Accuracy"
      ],
      "metadata": {
        "id": "GGV0CcmnOLfr"
      }
    },
    {
      "cell_type": "code",
      "source": [
        "# Agregar las etiquetas a las barras\n",
        "def autolabel(rects, ax):\n",
        "    for rect in rects:\n",
        "        height = rect.get_height()\n",
        "        ax.annotate('{:.4f}'.format(height),\n",
        "                    xy=(rect.get_x() + rect.get_width() / 2, height),\n",
        "                    xytext=(0, 3),\n",
        "                    textcoords=\"offset points\",\n",
        "                    ha='center', va='bottom')\n",
        "\n",
        "# Crear los datos para los modelos\n",
        "model_names = ['Logistic Regression', 'AdaBoost', 'XGBoost']\n",
        "accuracy = [lr_accuracy, clf_accuracy, xgb_accuracy]\n",
        "new_accuracy = [new_lr_accuracy, new_clf_accuracy, new_xgb_accuracy]\n",
        "\n",
        "# Configurar la figura con dos conjuntos de ejes\n",
        "fig, (ax1, ax2) = plt.subplots(nrows=1, ncols=2, figsize=(12, 6))\n",
        "\n",
        "# Graficar la primera gráfica en el primer conjunto de ejes\n",
        "ind = np.arange(len(model_names))\n",
        "ancho = 0.4\n",
        "rects1 = ax1.bar(ind - ancho/2, accuracy, ancho, label='Accuracy')\n",
        "ax1.set_ylabel('Accuracy')\n",
        "ax1.set_title('Accuracy por modelo con dataset sin filtrar')\n",
        "ax1.set_xticks(ind)\n",
        "ax1.set_xticklabels(model_names)\n",
        "ax1.legend()\n",
        "autolabel(rects1, ax1)\n",
        "\n",
        "# Graficar la segunda gráfica en el segundo conjunto de ejes\n",
        "rects2 = ax2.bar(ind - ancho/2, new_accuracy, ancho, label='Accuracy')\n",
        "ax2.set_ylabel('Accuracy')\n",
        "ax2.set_title('Accuracy por modelo con dataset filtrado')\n",
        "ax2.set_xticks(ind)\n",
        "ax2.set_xticklabels(model_names)\n",
        "ax2.legend()\n",
        "autolabel(rects2, ax2)\n",
        "\n",
        "# Ajustar el margen entre las dos gráficas\n",
        "fig.subplots_adjust(wspace=0.3)\n",
        "\n",
        "# Mostrar la gráfica\n",
        "plt.show()"
      ],
      "metadata": {
        "colab": {
          "base_uri": "https://localhost:8080/",
          "height": 545
        },
        "id": "W8JZEeiFOPHA",
        "outputId": "0aa3504d-8607-422b-9f9a-5b2510f0aaad"
      },
      "execution_count": 219,
      "outputs": [
        {
          "output_type": "display_data",
          "data": {
            "text/plain": [
              "<Figure size 1200x600 with 2 Axes>"
            ],
            "image/png": "[encoded data removed]"
          },
          "metadata": {}
        }
      ]
    },
    {
      "cell_type": "markdown",
      "source": [
        "### Comparativa del Balanced Accuracy"
      ],
      "metadata": {
        "id": "g3vanoEbO4sj"
      }
    },
    {
      "cell_type": "code",
      "source": [
        "# Agregar las etiquetas a las barras\n",
        "def autolabel(rects, ax):\n",
        "    for rect in rects:\n",
        "        height = rect.get_height()\n",
        "        ax.annotate('{:.4f}'.format(height),\n",
        "                    xy=(rect.get_x() + rect.get_width() / 2, height),\n",
        "                    xytext=(0, 3),\n",
        "                    textcoords=\"offset points\",\n",
        "                    ha='center', va='bottom')\n",
        "\n",
        "# Crear los datos para los modelos\n",
        "model_names = ['Logistic Regression', 'AdaBoost', 'XGBoost']\n",
        "balanced_accuracy = [lr_balanced_accuracy, clf_balanced_accuracy, xgb_balanced_accuracy]\n",
        "new_balanced_accuracy = [new_lr_balanced_accuracy, new_clf_balanced_accuracy, new_xgb_balanced_accuracy]\n",
        "\n",
        "# Configurar la figura con dos conjuntos de ejes\n",
        "fig, (ax1, ax2) = plt.subplots(nrows=1, ncols=2, figsize=(12, 6))\n",
        "\n",
        "# Graficar la primera gráfica en el primer conjunto de ejes\n",
        "ind = np.arange(len(model_names))\n",
        "ancho = 0.4\n",
        "rects1 = ax1.bar(ind - ancho/2, balanced_accuracy, ancho, label='Balanced Accuracy')\n",
        "ax1.set_ylabel('Balanced Accuracy')\n",
        "ax1.set_title('Balanced Accuracy por modelo con dataset sin filtrar')\n",
        "ax1.set_xticks(ind)\n",
        "ax1.set_xticklabels(model_names)\n",
        "ax1.legend()\n",
        "autolabel(rects1, ax1)\n",
        "\n",
        "# Graficar la segunda gráfica en el segundo conjunto de ejes\n",
        "rects2 = ax2.bar(ind - ancho/2, new_balanced_accuracy, ancho, label='Balanced Accuracy')\n",
        "ax2.set_ylabel('Balanced Accuracy')\n",
        "ax2.set_title('Balanced Accuracy por modelo con dataset filtrado')\n",
        "ax2.set_xticks(ind)\n",
        "ax2.set_xticklabels(model_names)\n",
        "ax2.legend()\n",
        "autolabel(rects2, ax2)\n",
        "\n",
        "# Ajustar el margen entre las dos gráficas\n",
        "fig.subplots_adjust(wspace=0.3)\n",
        "\n",
        "# Mostrar la gráfica\n",
        "plt.show()"
      ],
      "metadata": {
        "colab": {
          "base_uri": "https://localhost:8080/",
          "height": 545
        },
        "id": "x69KCZXYO6TG",
        "outputId": "702377de-85e5-410a-86e0-d1c929072263"
      },
      "execution_count": 220,
      "outputs": [
        {
          "output_type": "display_data",
          "data": {
            "text/plain": [
              "<Figure size 1200x600 with 2 Axes>"
            ],
            "image/png": "[encoded data removed]"
          },
          "metadata": {}
        }
      ]
    },
    {
      "cell_type": "markdown",
      "source": [
        "### Comparativa del F1 Score"
      ],
      "metadata": {
        "id": "GNStQ6d7jK_S"
      }
    },
    {
      "cell_type": "code",
      "source": [
        "# Agregar las etiquetas a las barras\n",
        "def autolabel(rects, ax):\n",
        "    for rect in rects:\n",
        "        height = rect.get_height()\n",
        "        ax.annotate('{:.4f}'.format(height),\n",
        "                    xy=(rect.get_x() + rect.get_width() / 2, height),\n",
        "                    xytext=(0, 3),\n",
        "                    textcoords=\"offset points\",\n",
        "                    ha='center', va='bottom')\n",
        "\n",
        "# Crear los datos para los modelos\n",
        "model_names = ['Logistic Regression', 'AdaBoost', 'XGBoost']\n",
        "f1_score = [lr_f1_score, clf_f1_score, xgb_f1_score]\n",
        "new_f1_score = [new_lr_f1_score, new_clf_f1_score, new_xgb_f1_score]\n",
        "\n",
        "# Configurar la figura con dos conjuntos de ejes\n",
        "fig, (ax1, ax2) = plt.subplots(nrows=1, ncols=2, figsize=(12, 6))\n",
        "\n",
        "# Graficar la primera gráfica en el primer conjunto de ejes\n",
        "ind = np.arange(len(model_names))\n",
        "ancho = 0.4\n",
        "rects1 = ax1.bar(ind - ancho/2, f1_score, ancho, label='F1 Score')\n",
        "ax1.set_ylabel('F1 Score')\n",
        "ax1.set_title('F1 Score por modelo con dataset sin filtrar')\n",
        "ax1.set_xticks(ind)\n",
        "ax1.set_xticklabels(model_names)\n",
        "ax1.legend()\n",
        "autolabel(rects1, ax1)\n",
        "\n",
        "# Graficar la segunda gráfica en el segundo conjunto de ejes\n",
        "rects2 = ax2.bar(ind - ancho/2, new_f1_score, ancho, label='F1 Score')\n",
        "ax2.set_ylabel('F1 Score')\n",
        "ax2.set_title('F1 Score por modelo con dataset filtrado')\n",
        "ax2.set_xticks(ind)\n",
        "ax2.set_xticklabels(model_names)\n",
        "ax2.legend()\n",
        "autolabel(rects2, ax2)\n",
        "\n",
        "# Ajustar el margen entre las dos gráficas\n",
        "fig.subplots_adjust(wspace=0.3)\n",
        "\n",
        "# Mostrar la gráfica\n",
        "plt.show()"
      ],
      "metadata": {
        "colab": {
          "base_uri": "https://localhost:8080/",
          "height": 545
        },
        "id": "V3gbjv8HjNaK",
        "outputId": "8a891198-76f1-407c-a97d-ea4897d05abf"
      },
      "execution_count": 221,
      "outputs": [
        {
          "output_type": "display_data",
          "data": {
            "text/plain": [
              "<Figure size 1200x600 with 2 Axes>"
            ],
            "image/png": "[encoded data removed]"
          },
          "metadata": {}
        }
      ]
    },
    {
      "cell_type": "markdown",
      "source": [
        "### Comparativa del tiempo de entrenamiento"
      ],
      "metadata": {
        "id": "qBCN0wPJun4u"
      }
    },
    {
      "cell_type": "code",
      "source": [
        "# Agregar las etiquetas a las barras\n",
        "def autolabel(rects, ax):\n",
        "    for rect in rects:\n",
        "        height = rect.get_height()\n",
        "        ax.annotate('{:.4f}'.format(height),\n",
        "                    xy=(rect.get_x() + rect.get_width() / 2, height),\n",
        "                    xytext=(0, 3),\n",
        "                    textcoords=\"offset points\",\n",
        "                    ha='center', va='bottom')\n",
        "\n",
        "# Crear los datos para los modelos\n",
        "model_names = ['Logistic Regression', 'AdaBoost', 'XGBoost']\n",
        "training_time = [lr_training_time, clf_training_time, xgb_training_time]\n",
        "new_training_time = [new_lr_training_time, new_clf_training_time, new_xgb_training_time]\n",
        "\n",
        "# Configurar la figura con dos conjuntos de ejes\n",
        "fig, (ax1, ax2) = plt.subplots(nrows=1, ncols=2, figsize=(12, 6))\n",
        "\n",
        "# Graficar la primera gráfica en el primer conjunto de ejes\n",
        "ind = np.arange(len(model_names))\n",
        "ancho = 0.4\n",
        "rects1 = ax1.bar(ind - ancho/2, training_time, ancho, label='Tiempo de entrenamiento (ms)')\n",
        "ax1.set_ylabel('Tiempo de entrenamiento (ms)')\n",
        "ax1.set_title('Tiempo de entrenamiento por modelo con dataset sin filtrar')\n",
        "ax1.set_xticks(ind)\n",
        "ax1.set_xticklabels(model_names)\n",
        "ax1.legend()\n",
        "autolabel(rects1, ax1)\n",
        "\n",
        "# Graficar la segunda gráfica en el segundo conjunto de ejes\n",
        "rects2 = ax2.bar(ind - ancho/2, new_training_time, ancho, label='Tiempo de entrenamiento (ms)')\n",
        "ax2.set_ylabel('Tiempo de entrenamiento (ms)')\n",
        "ax2.set_title('Tiempo de entrenamiento por modelo con dataset filtrado')\n",
        "ax2.set_xticks(ind)\n",
        "ax2.set_xticklabels(model_names)\n",
        "ax2.legend()\n",
        "autolabel(rects2, ax2)\n",
        "\n",
        "# Ajustar el margen entre las dos gráficas\n",
        "fig.subplots_adjust(wspace=0.3)\n",
        "\n",
        "# Mostrar la gráfica\n",
        "plt.show()"
      ],
      "metadata": {
        "id": "AVTXWSPQtF_Y",
        "colab": {
          "base_uri": "https://localhost:8080/",
          "height": 545
        },
        "outputId": "20500aeb-afa1-43bd-e163-9ff8074d318b"
      },
      "execution_count": 222,
      "outputs": [
        {
          "output_type": "display_data",
          "data": {
            "text/plain": [
              "<Figure size 1200x600 with 2 Axes>"
            ],
            "image/png": "[encoded data removed]"
          },
          "metadata": {}
        }
      ]
    },
    {
      "cell_type": "markdown",
      "source": [
        "# **6. MODELO FINAL Y PREDICCIONES**"
      ],
      "metadata": {
        "id": "PV1abvceJ4aG"
      }
    },
    {
      "cell_type": "markdown",
      "source": [
        "Tras la comparativa realizada en el apartado anterior, queda claro que el mejor modelo es el XGBoost con amplia diferencia respecto del resto.\n",
        "\n",
        "De manera similar a la práctica anterior, los resultados con el dataset filtrado son ligeramente inferiores que los resultados obtenidos con el dataset original, pero los tiempos de entrenamiento se reducen enormemente.\n",
        "\n",
        "A pesar de esta reducción de tiempos, se ha considerado que los bajos tiempos de entrenamiento con los datos filtrados no compensan la pérdida de precisión en los resultados. Por este motivo, se selecciona como mejor modelo el XGBoost con el dataset original. "
      ],
      "metadata": {
        "id": "UCkyABN7kFZ1"
      }
    },
    {
      "cell_type": "code",
      "source": [
        "# Guardado de modelo\n",
        "with open('modelo_final.pkl', 'wb') as file:\n",
        "    pickle.dump(xgb_model, file)"
      ],
      "metadata": {
        "id": "JTgXrCzSk5HO"
      },
      "execution_count": 223,
      "outputs": []
    },
    {
      "cell_type": "markdown",
      "source": [
        "# **7. CONCLUSIONES**"
      ],
      "metadata": {
        "id": "1YwEL8JdJ8aw"
      }
    }
  ]
}